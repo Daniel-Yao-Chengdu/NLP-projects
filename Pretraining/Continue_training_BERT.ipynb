{
  "nbformat": 4,
  "nbformat_minor": 0,
  "metadata": {
    "colab": {
      "name": "Continue training BERT.ipynb",
      "provenance": [],
      "collapsed_sections": [],
      "authorship_tag": "ABX9TyNr7Abpj0LhSeV2gtyQlPVK",
      "include_colab_link": true
    },
    "kernelspec": {
      "name": "python3",
      "display_name": "Python 3"
    },
    "language_info": {
      "name": "python"
    }
  },
  "cells": [
    {
      "cell_type": "markdown",
      "metadata": {
        "id": "view-in-github",
        "colab_type": "text"
      },
      "source": [
        "<a href=\"https://colab.research.google.com/github/Daniel-Yao-Chengdu/NLP-project/blob/master/Pretraining/Continue_training_BERT.ipynb\" target=\"_parent\"><img src=\"https://colab.research.google.com/assets/colab-badge.svg\" alt=\"Open In Colab\"/></a>"
      ]
    },
    {
      "cell_type": "markdown",
      "source": [
        "* A very good website for learning trainer: [here](https://zhuanlan.zhihu.com/p/363670628)\n",
        "* Reference for this code: [here](https://www.kaggle.com/code/arnabs007/pretrain-a-bert-language-model-from-scratch/notebook) "
      ],
      "metadata": {
        "id": "WJbOd1LkxoCc"
      }
    },
    {
      "cell_type": "code",
      "source": [
        "#!pip install transformers\n",
        "import transformers\n",
        "from transformers import BertConfig, BertForMaskedLM, DataCollatorForLanguageModeling, BertTokenizer\n",
        "import torch"
      ],
      "metadata": {
        "id": "_3tx97bdtLIB"
      },
      "execution_count": null,
      "outputs": []
    },
    {
      "cell_type": "code",
      "source": [
        "# import data and process the data into token numbers\n",
        "# only choose sentences whose weights are higher than 0.75, then the number of sentences is 61841\n",
        "dataset=torch.load('corpus 4.pt')\n",
        "weight=torch.load('corpurs_4_weights.pt')\n",
        "\n",
        "new_dataset=[i for i,j in zip(dataset,weight) if j>=0.75]\n",
        "new_weight=[j for j in weight if j>=0.75]\n",
        "\n",
        "tokenizer = BertTokenizer.from_pretrained('bert-base-uncased')\n",
        "dataset_id=tokenizer(new_dataset,max_length=512,truncation=True)['input_ids']\n",
        "\n",
        "#Use data_collator to create pairs of input data and labels\n",
        "data_collator = DataCollatorForLanguageModeling(tokenizer=tokenizer, mlm=True, mlm_probability=0.15)"
      ],
      "metadata": {
        "id": "fvwfC-Eiw3Eh"
      },
      "execution_count": 44,
      "outputs": []
    },
    {
      "cell_type": "code",
      "execution_count": null,
      "metadata": {
        "id": "Rm2SgF3_s8sO"
      },
      "outputs": [],
      "source": [
        "# Define model\n",
        "from transformers import BertConfig, BertForMaskedLM, DataCollatorForLanguageModeling, BertTokenizer\n",
        " \n",
        "model = BertForMaskedLM.from_pretrained('bert-base-uncased')"
      ]
    },
    {
      "cell_type": "code",
      "source": [
        "# Deine training arguments\n",
        "from transformers import Trainer, TrainingArguments\n",
        "\n",
        "training_args = TrainingArguments(\n",
        "    output_dir='my_corpus_training',\n",
        "    overwrite_output_dir=True,\n",
        "    num_train_epochs=3,\n",
        "    per_device_train_batch_size=1,\n",
        "    save_steps= 50, # for save the models\n",
        "    save_total_limit=2,\n",
        "    gradient_accumulation_steps=64,\n",
        "    prediction_loss_only=True,\n",
        "    logging_steps=50, #for printing loss\n",
        ")\n",
        "\n",
        "trainer = Trainer(\n",
        "    model=model,\n",
        "    args=training_args,\n",
        "    data_collator=data_collator,\n",
        "    train_dataset=dataset_id,\n",
        ")"
      ],
      "metadata": {
        "id": "P5ZmtZzRt2is"
      },
      "execution_count": 47,
      "outputs": []
    },
    {
      "cell_type": "code",
      "source": [
        "%%time\n",
        "trainer.train()\n",
        "trainer.save_model('my_corpus_training')"
      ],
      "metadata": {
        "id": "qAGa6mc5w1F4"
      },
      "execution_count": null,
      "outputs": []
    }
  ]
}