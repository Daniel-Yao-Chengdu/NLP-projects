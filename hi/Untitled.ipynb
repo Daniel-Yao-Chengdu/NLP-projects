{
 "cells": [
  {
   "cell_type": "code",
   "execution_count": 1,
   "metadata": {},
   "outputs": [],
   "source": [
    "import mysentences"
   ]
  },
  {
   "cell_type": "code",
   "execution_count": 2,
   "metadata": {},
   "outputs": [
    {
     "name": "stdout",
     "output_type": "stream",
     "text": [
      "Arguably, the construction industry is far from achieving the level of maturity required to reach Industry 4.0, which requires the net-working of the physical world and the use of cyber-physical sys-tems (CPSs) (Klinc and Turk 2019). However, there is no doubt that it is going through a considerable digital transformation. The con-struction industry is going through a digitization process with the rapid proliferation of technology utilized in each project phase. These efforts to digitize and automate the industry are often named Construction 4.0, which consists of two main aspects: digitizing information and using digital technologies to control and monitor physical assets (Garcia de Soto et al 2020). The former involves\n"
     ]
    }
   ],
   "source": [
    "texts=[str('Arguably, the construction industry is far from achieving the level of maturity required to reach Industry 4.0, which requires the net-working of the physical world and the use of cyber-physical sys-tems (CPSs) (Klinc and Turk 2019). However, there is no doubt that it is going through a considerable digital transformation. The con-struction industry is going through a digitization process with the rapid proliferation of technology utilized in each project phase. These efforts to digitize and automate the industry are often named Construction 4.0, which consists of two main aspects: digitizing information and using digital technologies to control and monitor physical assets (Garcia de Soto et al. 2020). The former involves')]\n",
    "sentences=[]\n",
    "for text in texts:\n",
    "    text=text.replace('al.', 'al')\n",
    "    print (text)\n",
    "    sentence=mysentences.split_into_sentences(text) #[1,sentence]\n",
    "    #remove the sentences whose lengths are shorter than a certain number\n",
    "    #sentence=[i for i in sentence if len(i.split(' '))>7] #[1,sentence]\n",
    "    sentences.append(sentence) #[m,sentences"
   ]
  },
  {
   "cell_type": "code",
   "execution_count": 3,
   "metadata": {},
   "outputs": [
    {
     "data": {
      "text/plain": [
       "[['Arguably, the construction industry is far from achieving the level of maturity required to reach Industry 4.0, which requires the net-working of the physical world and the use of cyber-physical sys-tems (CPSs) (Klinc and Turk 2019).',\n",
       "  'However, there is no doubt that it is going through a considerable digital transformation.',\n",
       "  'The con-struction industry is going through a digitization process with the rapid proliferation of technology utilized in each project phase.',\n",
       "  'These efforts to digitize and automate the industry are often named Construction 4.0, which consists of two main aspects: digitizing information and using digital technologies to control and monitor physical assets (Garcia de Soto et al 2020).']]"
      ]
     },
     "execution_count": 3,
     "metadata": {},
     "output_type": "execute_result"
    }
   ],
   "source": [
    "sentences"
   ]
  },
  {
   "cell_type": "code",
   "execution_count": null,
   "metadata": {},
   "outputs": [],
   "source": [
    "ph.d. you "
   ]
  }
 ],
 "metadata": {
  "kernelspec": {
   "display_name": "Python 3",
   "language": "python",
   "name": "python3"
  },
  "language_info": {
   "codemirror_mode": {
    "name": "ipython",
    "version": 3
   },
   "file_extension": ".py",
   "mimetype": "text/x-python",
   "name": "python",
   "nbconvert_exporter": "python",
   "pygments_lexer": "ipython3",
   "version": "3.8.3"
  },
  "toc": {
   "base_numbering": 1,
   "nav_menu": {},
   "number_sections": true,
   "sideBar": true,
   "skip_h1_title": false,
   "title_cell": "Table of Contents",
   "title_sidebar": "Contents",
   "toc_cell": false,
   "toc_position": {},
   "toc_section_display": true,
   "toc_window_display": false
  }
 },
 "nbformat": 4,
 "nbformat_minor": 4
}
