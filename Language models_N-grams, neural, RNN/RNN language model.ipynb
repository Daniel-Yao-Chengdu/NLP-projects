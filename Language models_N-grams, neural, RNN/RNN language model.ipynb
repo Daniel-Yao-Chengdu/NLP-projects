{
  "nbformat": 4,
  "nbformat_minor": 0,
  "metadata": {
    "accelerator": "GPU",
    "colab": {
      "provenance": [],
      "collapsed_sections": [],
      "toc_visible": true
    },
    "kernelspec": {
      "display_name": "Python 3",
      "name": "python3"
    },
    "language_info": {
      "name": "python"
    }
  },
  "cells": [
    {
      "cell_type": "markdown",
      "metadata": {
        "id": "IxZ97MQPbj90"
      },
      "source": [
        "# Fall 2022: DS-GA 1011 NLP with Representation Learning\n",
        "## Lab 4: 03-Oct-2022, Monday\n",
        "## Recurrent Neural Networks with Pytorch\n",
        "In this lab, we explore how to implement RNN based Language Model with sequential data.\n",
        "\n",
        "Examples of **sequential data**: \n",
        "\n",
        "- discrete: text\n",
        "\n",
        "- continuous: 1d audio, 2d image, 3d video"
      ]
    },
    {
      "cell_type": "code",
      "metadata": {
        "id": "T0RL_Mek0jkz"
      },
      "source": [
        "!conda install -c conda-forge jsonlines #OR\n",
        "!pip install jsonlines"
      ],
      "execution_count": null,
      "outputs": []
    },
    {
      "cell_type": "code",
      "metadata": {
        "id": "Hl287Qi6Jucy"
      },
      "source": [
        "#Import required packages\n",
        "import os\n",
        "import jsonlines\n",
        "from tqdm import tqdm\n",
        "\n",
        "import torch\n",
        "import torch.nn as nn\n",
        "import torch.optim as optim\n",
        "from torch.utils.data import Dataset, DataLoader\n",
        "\n",
        "import numpy\n",
        "import matplotlib.pyplot as plt"
      ],
      "execution_count": 3,
      "outputs": []
    },
    {
      "cell_type": "markdown",
      "metadata": {
        "id": "dHRaW4wCKszD"
      },
      "source": [
        "c.f\n",
        "> [`torch.utils.data`](https://pytorch.org/docs/stable/data.html) provides PyTorch data loading utility. The key-class of this module is the `torch.utils.data.DataLoader`.\n"
      ]
    },
    {
      "cell_type": "markdown",
      "metadata": {
        "id": "jhN2KkjOFSkN"
      },
      "source": [
        "---\n",
        "### Dataset\n",
        "We will use **Persona-Chat** again."
      ]
    },
    {
      "cell_type": "code",
      "metadata": {
        "id": "XxSNN-Xc-vyh"
      },
      "source": [
        "# Download data and a pretrained model\n",
        "\n",
        "# dwnld_path = './data/personachat/'\n",
        "\n",
        "### DOWNLOADING THE FILES\n",
        "### persona chat dataset\n",
        "if not os.path.exists('personachat_all_sentences_train.jsonl'):\n",
        "    !wget \"https://nyu.box.com/shared/static/q4nvswb0szelivhgyx87vd1056ttqfyi.jsonl\" -O 'personachat_all_sentences_train.jsonl'\n",
        "if not os.path.exists('personachat_all_sentences_valid.jsonl'):\n",
        "    !wget \"https://nyu.box.com/shared/static/8krcizo8sms1m0ppy7uiwfcx4a3l5nsq.jsonl\" -O 'personachat_all_sentences_valid.jsonl'\n",
        "if not os.path.exists('personachat_all_sentences_test.jsonl'):\n",
        "    !wget \"https://nyu.box.com/shared/static/im7we9k2gcf8kslqnfamsimicgosuw9y.jsonl\" -O 'personachat_all_sentences_test.jsonl'\n",
        "\n",
        "### pretrained rnn model\n",
        "if not os.path.exists('personachat_rnn_lm.pt'):\n",
        "    !wget \"https://nyu.box.com/shared/static/3jl9erctnvbefnczgmetkdil0xwpcxzb.pt\" -O 'personachat_rnn_lm.pt'"
      ],
      "execution_count": null,
      "outputs": []
    },
    {
      "cell_type": "code",
      "metadata": {
        "id": "qMLDPoL23cnI"
      },
      "source": [
        "# For Windows users\n",
        "# !pip install wget\n",
        "# import wget\n",
        "\n",
        "# # Download data and a pretrained model\n",
        "\n",
        "# ### DOWNLOADING THE FILES\n",
        "# ### persona chat dataset\n",
        "# if not os.path.exists('personachat_all_sentences_train.jsonl'):\n",
        "#     wget.download(\"https://nyu.box.com/shared/static/q4nvswb0szelivhgyx87vd1056ttqfyi.jsonl\",'personachat_all_sentences_train.jsonl')\n",
        "# if not os.path.exists('personachat_all_sentences_valid.jsonl'):\n",
        "#     wget.download(\"https://nyu.box.com/shared/static/8krcizo8sms1m0ppy7uiwfcx4a3l5nsq.jsonl\",'personachat_all_sentences_valid.jsonl')\n",
        "# if not os.path.exists('personachat_all_sentences_test.jsonl'):\n",
        "#     wget.download(\"https://nyu.box.com/shared/static/im7we9k2gcf8kslqnfamsimicgosuw9y.jsonl\",'personachat_all_sentences_test.jsonl')\n",
        "\n",
        "# ## wikitext-2 dataset\n",
        "# if not os.path.exists('wikitext2-sentencized.json'):\n",
        "#     wget.download(\"https://nyu.box.com/shared/static/9kb7l7ci30hb6uahhbssjlq0kctr5ii4.json\",'wikitext2-sentencized.json')\n",
        "\n",
        "# ### pretrained rnn model\n",
        "# if not os.path.exists('personachat_rnn_lm.pt'):\n",
        "#     wget.download(\"https://nyu.box.com/shared/static/3jl9erctnvbefnczgmetkdil0xwpcxzb.pt\",'personachat_rnn_lm.pt')"
      ],
      "execution_count": 5,
      "outputs": []
    },
    {
      "cell_type": "markdown",
      "metadata": {
        "id": "eLWS5Wa7HmbQ"
      },
      "source": [
        "#### Preparing data: dictionary and dataset"
      ]
    },
    {
      "cell_type": "code",
      "metadata": {
        "id": "iHNMLD9a-v8E"
      },
      "source": [
        "def load_personachat(basedir):\n",
        "    datasets_fnames = {\n",
        "        'train': os.path.join(basedir, 'personachat_all_sentences_train.jsonl'), #jsonl file is different from json. Each line in jsonl file is an object. \n",
        "        'valid': os.path.join(basedir, 'personachat_all_sentences_valid.jsonl'),\n",
        "        'test': os.path.join(basedir, 'personachat_all_sentences_test.jsonl'),\n",
        "    }\n",
        "    \n",
        "    datasets_text = {\n",
        "        'train': [],\n",
        "        'valid': [],\n",
        "        'test': [],\n",
        "    }\n",
        "    \n",
        "    for split, fname in datasets_fnames.items():\n",
        "        for token_dict in jsonlines.open(fname):\n",
        "            datasets_text[split].append(token_dict['tokens'])\n",
        "    \n",
        "    return datasets_text\n",
        "\n",
        "class Dictionary(object): #maps words to indices\n",
        "    def __init__(self, datasets, include_valid=False):\n",
        "        self.tokens = []\n",
        "        self.ids = {}\n",
        "        self.counts = {}\n",
        "        \n",
        "        # add special tokens\n",
        "        self.add_token('<bos>') #beginning of sentence\n",
        "        self.add_token('<eos>') #end of sentence\n",
        "        self.add_token('<pad>')\n",
        "        self.add_token('<unk>') #unknown. Needed in case use with text with word that isn't in vocab\n",
        "        \n",
        "        for line in tqdm(datasets['train']):\n",
        "            for w in line:\n",
        "                self.add_token(w)\n",
        "                    \n",
        "        if include_valid is True:\n",
        "            for line in tqdm(datasets['valid']):\n",
        "                for w in line:\n",
        "                    self.add_token(w)\n",
        "                            \n",
        "    def add_token(self, w):\n",
        "        if w not in self.tokens:\n",
        "            self.tokens.append(w)\n",
        "            _w_id = len(self.tokens) - 1\n",
        "            self.ids[w] = _w_id\n",
        "            self.counts[w] = 1\n",
        "        else:\n",
        "            self.counts[w] += 1\n",
        "\n",
        "    def get_id(self, w):\n",
        "        return self.ids[w]\n",
        "    \n",
        "    def get_token(self, idx):\n",
        "        return self.tokens[idx]\n",
        "    \n",
        "    def decode_idx_seq(self, l):\n",
        "        return [self.tokens[i] for i in l]\n",
        "    \n",
        "    def encode_token_seq(self, l):\n",
        "        return [self.ids[i] if i in self.ids else self.ids['<unk>'] for i in l]\n",
        "    \n",
        "    def __len__(self):\n",
        "        return len(self.tokens)"
      ],
      "execution_count": 1,
      "outputs": []
    },
    {
      "cell_type": "code",
      "metadata": {
        "id": "MUYTjIOQ-wDH"
      },
      "source": [
        "personachat_dataset = load_personachat('./')\n",
        "persona_dict = Dictionary(personachat_dataset, include_valid=True)"
      ],
      "execution_count": null,
      "outputs": []
    },
    {
      "cell_type": "code",
      "metadata": {
        "id": "PO9Ao6uK9fqM"
      },
      "source": [
        "print(len(persona_dict))\n",
        "for i in range(10):\n",
        "    print(i, persona_dict.get_token(i))"
      ],
      "execution_count": null,
      "outputs": []
    },
    {
      "cell_type": "markdown",
      "metadata": {
        "id": "Eb9Va-p4bj96"
      },
      "source": [
        "---\n",
        "### Model: Recurrent Neural Network"
      ]
    },
    {
      "cell_type": "markdown",
      "metadata": {
        "id": "oR-3DRYL9fqX"
      },
      "source": [
        "#### RNN as a sequence processing tool\n",
        "\n",
        "Consider a sequential input $\\mathbf{x}_1^T = (x_1, x_2, \\cdots, x_T)$.\n",
        "\n",
        "Now our goal is to estimate the probability distribution $p(x_t|x_{<t})$, i.e. the history is full prefix of the input before the token $x_t$. Obviosuly, in this case every token's history depends on the particular input and token position.\n",
        "\n",
        "Recurrent neural network can be seen as a function $h_t = f(x_t, h_{t-1}; \\theta)$, where $h_t$ is an internal (hidden) state of the model at time step $t$, and $x_t$ is an input signal at time step $t$.\n",
        "\n",
        "How exactly is $f$ defined? It depends on a particular architecture. There are plenty of them such as Long Short-Term Memory (LSTM), Gated Recurrent Unit (GRU) etc.\n",
        "\n",
        "Consider the simplest possible case: $$h_t = f(x_t, h_{t-1}; \\theta) = \\text{tanh}(a_t)\\\\ a_t = b + W \\cdot h_{t-1} + U \\cdot x_t$$ Adding previous hidden state\n",
        "\n",
        "Lets assume that size of the hidden state $|h_t| = 32$. ***Then what is the dimensionality of $W$?*** $dim(o)\\times dim(h)$\n",
        "\n",
        "What about $x_t$? In count based LM each token is represented by a single number? Here we use the distributional representation of the token.\n",
        "\n",
        "Lets assume size of the token embedding here $|x_t| = 300$. ***Then what is the dimensionality of $U$?***\n",
        "\n",
        "***Then what is the dimensionality of $b$?***"
      ]
    },
    {
      "cell_type": "markdown",
      "metadata": {
        "id": "DLTwdNF-bj97"
      },
      "source": [
        "#### RNNCell\n",
        "\n",
        "*RNNCell* is a building block of the RNN model. Pytorch RNN model allows to create multi-layer network, i.e. it creates a separate RNNCell for every layer and is able to process the whole sequences of data by iteratively applying RNNCell step by step."
      ]
    },
    {
      "cell_type": "code",
      "metadata": {
        "id": "F1WfgVLybj98"
      },
      "source": [
        "from torch.nn import RNNCell \n",
        "\n",
        "#  always try to read the documentation \n",
        "RNNCell?"
      ],
      "execution_count": null,
      "outputs": []
    },
    {
      "cell_type": "markdown",
      "metadata": {
        "id": "EinnRCTybj9-"
      },
      "source": [
        "***Why there are two bias terms in Elman RNNCell? Is this equivalent to a single bias term as we wrote? Why?***"
      ]
    },
    {
      "cell_type": "code",
      "metadata": {
        "id": "OseW45d9bj9_",
        "outputId": "8300c5be-6e85-473a-a647-df9df67f5573",
        "colab": {
          "base_uri": "https://localhost:8080/"
        }
      },
      "source": [
        "# quick test\n",
        "hidden_size = 32\n",
        "embed_size = 300\n",
        "\n",
        "rnn_cell = RNNCell(embed_size, hidden_size)\n",
        "rnn_cell"
      ],
      "execution_count": null,
      "outputs": [
        {
          "output_type": "execute_result",
          "data": {
            "text/plain": [
              "RNNCell(300, 32)"
            ]
          },
          "metadata": {},
          "execution_count": 10
        }
      ]
    },
    {
      "cell_type": "code",
      "metadata": {
        "id": "UnPEPW5Nbj-B",
        "outputId": "c263e675-56b6-4afa-bf3b-4edd73271430",
        "colab": {
          "base_uri": "https://localhost:8080/"
        }
      },
      "source": [
        "random_hidden = torch.rand(1, hidden_size)\n",
        "print(random_hidden.size())"
      ],
      "execution_count": null,
      "outputs": [
        {
          "output_type": "stream",
          "name": "stdout",
          "text": [
            "torch.Size([1, 32])\n"
          ]
        }
      ]
    },
    {
      "cell_type": "code",
      "metadata": {
        "id": "9TIjbLsMbj-C",
        "outputId": "d8117d37-6986-4785-e270-12ca1dcc75d9",
        "colab": {
          "base_uri": "https://localhost:8080/"
        }
      },
      "source": [
        "random_input = torch.rand(1, embed_size)\n",
        "print(random_input.size())"
      ],
      "execution_count": null,
      "outputs": [
        {
          "output_type": "stream",
          "name": "stdout",
          "text": [
            "torch.Size([1, 300])\n"
          ]
        }
      ]
    },
    {
      "cell_type": "code",
      "metadata": {
        "id": "1n2k_CEBbj-E",
        "outputId": "e929a0ef-5112-46f7-8284-548609bb548a",
        "colab": {
          "base_uri": "https://localhost:8080/"
        }
      },
      "source": [
        "new_hidden = rnn_cell(random_input, random_hidden)\n",
        "print(new_hidden.size())"
      ],
      "execution_count": null,
      "outputs": [
        {
          "output_type": "stream",
          "name": "stdout",
          "text": [
            "torch.Size([1, 32])\n"
          ]
        }
      ]
    },
    {
      "cell_type": "code",
      "source": [
        "torch.ones_like(random_input)"
      ],
      "metadata": {
        "id": "O2iVA5H4sU6o"
      },
      "execution_count": null,
      "outputs": []
    },
    {
      "cell_type": "markdown",
      "metadata": {
        "id": "oyAi2Otsbj-G"
      },
      "source": [
        "***What is the first 1 in the size tuple?*** -> *Batch size*. \n",
        "\n",
        "#### Batch size\n",
        "\n",
        "\n",
        "*Batch size* is the number of elements that *mini batch* contains. Do not confuse the batch size and time/sequence axis.\n",
        "\n",
        "Why do we need a *batch size*? To save computation time. Matrix multiplications give us this speed-up at very low cast thanks to efficient implementations.\n",
        "\n",
        "Consider the following input batch:"
      ]
    },
    {
      "cell_type": "code",
      "metadata": {
        "id": "E2P6hWF3bj-H",
        "outputId": "9fb75573-04f9-44be-8907-ce39fb776f9a",
        "colab": {
          "base_uri": "https://localhost:8080/"
        }
      },
      "source": [
        "example_2 = [ 'hello this is the first sample in mini batch', 'and this is the second sample in mini batch' ]\n",
        "example_2"
      ],
      "execution_count": null,
      "outputs": [
        {
          "output_type": "execute_result",
          "data": {
            "text/plain": [
              "['hello this is the first sample in mini batch',\n",
              " 'and this is the second sample in mini batch']"
            ]
          },
          "metadata": {},
          "execution_count": 17
        }
      ]
    },
    {
      "cell_type": "markdown",
      "metadata": {
        "id": "IYmRMMbGbj-J"
      },
      "source": [
        "This *mini batch* contains two independent sentences, i.e. the batch size is 2. \n",
        "\n",
        "The actual length of each sample is 9. We are lucky that they have the same length, but what to do if not? For example:"
      ]
    },
    {
      "cell_type": "code",
      "metadata": {
        "id": "eVZN9JRWbj-J",
        "outputId": "4f9a87eb-e533-4cc2-9303-031ad772b1fe",
        "colab": {
          "base_uri": "https://localhost:8080/",
          "height": 52
        }
      },
      "source": [
        "example_3 = ['this sample is quite long here since we want to address this case', 'this one is short']\n",
        "example_3"
      ],
      "execution_count": null,
      "outputs": [
        {
          "output_type": "execute_result",
          "data": {
            "text/plain": [
              "['this sample is quite long here since we want to address this case',\n",
              " 'this one is short']"
            ]
          },
          "metadata": {
            "tags": []
          },
          "execution_count": 14
        }
      ]
    },
    {
      "cell_type": "markdown",
      "metadata": {
        "id": "rvsW4dnlbj-L"
      },
      "source": [
        "As a workaround we introduce the special padding token `<pad>`, then `example_3` will looks as:"
      ]
    },
    {
      "cell_type": "code",
      "metadata": {
        "id": "-VN-2qJ7bj-M",
        "outputId": "5241e9a7-1ecc-459c-b3cf-8b0347c697a4",
        "colab": {
          "base_uri": "https://localhost:8080/",
          "height": 52
        }
      },
      "source": [
        "# toy function\n",
        "\n",
        "def pad_strings(minibatch):\n",
        "    max_len_sample = max(len(i.split(' ')) for i in minibatch)\n",
        "\n",
        "    result = []\n",
        "    for line in minibatch:\n",
        "        line_len = len(line.split(' '))\n",
        "        padding_str = ' ' + '<pad> '*(max_len_sample-line_len)\n",
        "        result.append(line+padding_str)\n",
        "        \n",
        "    return result\n",
        "\n",
        "pad_strings(example_3)"
      ],
      "execution_count": null,
      "outputs": [
        {
          "output_type": "execute_result",
          "data": {
            "text/plain": [
              "['this sample is quite long here since we want to address this case ',\n",
              " 'this one is short <pad> <pad> <pad> <pad> <pad> <pad> <pad> <pad> <pad> ']"
            ]
          },
          "metadata": {
            "tags": []
          },
          "execution_count": 15
        }
      ]
    },
    {
      "cell_type": "markdown",
      "metadata": {
        "id": "L4QaNlS2bj-O"
      },
      "source": [
        "Now at time step $t=4$ input to RNNCell is `[['long'], ['<pad>']]`.\n",
        "\n",
        "#### RNN\n",
        "*RNN* is sequence of *RNN cell*."
      ]
    },
    {
      "cell_type": "code",
      "metadata": {
        "id": "FCvackw4bj-O"
      },
      "source": [
        "from torch.nn import RNNBase, RNN\n",
        "\n",
        "RNNBase.__init__??"
      ],
      "execution_count": null,
      "outputs": []
    },
    {
      "cell_type": "code",
      "metadata": {
        "id": "d_qmYXYMbj-Q",
        "outputId": "32ff58ae-97bf-4133-bcfd-f8a3886da497"
      },
      "source": [
        "RNNBase.forward?"
      ],
      "execution_count": null,
      "outputs": [
        {
          "output_type": "display_data",
          "data": {
            "text/plain": [
              "\u001b[0;31mSignature:\u001b[0m\n",
              "\u001b[0mRNNBase\u001b[0m\u001b[0;34m.\u001b[0m\u001b[0mforward\u001b[0m\u001b[0;34m(\u001b[0m\u001b[0;34m\u001b[0m\n",
              "\u001b[0;34m\u001b[0m    \u001b[0mself\u001b[0m\u001b[0;34m,\u001b[0m\u001b[0;34m\u001b[0m\n",
              "\u001b[0;34m\u001b[0m    \u001b[0minput\u001b[0m\u001b[0;34m:\u001b[0m \u001b[0mtorch\u001b[0m\u001b[0;34m.\u001b[0m\u001b[0mTensor\u001b[0m\u001b[0;34m,\u001b[0m\u001b[0;34m\u001b[0m\n",
              "\u001b[0;34m\u001b[0m    \u001b[0mhx\u001b[0m\u001b[0;34m:\u001b[0m \u001b[0mUnion\u001b[0m\u001b[0;34m[\u001b[0m\u001b[0mtorch\u001b[0m\u001b[0;34m.\u001b[0m\u001b[0mTensor\u001b[0m\u001b[0;34m,\u001b[0m \u001b[0mNoneType\u001b[0m\u001b[0;34m]\u001b[0m \u001b[0;34m=\u001b[0m \u001b[0;32mNone\u001b[0m\u001b[0;34m,\u001b[0m\u001b[0;34m\u001b[0m\n",
              "\u001b[0;34m\u001b[0m\u001b[0;34m)\u001b[0m \u001b[0;34m->\u001b[0m \u001b[0mTuple\u001b[0m\u001b[0;34m[\u001b[0m\u001b[0mtorch\u001b[0m\u001b[0;34m.\u001b[0m\u001b[0mTensor\u001b[0m\u001b[0;34m,\u001b[0m \u001b[0mtorch\u001b[0m\u001b[0;34m.\u001b[0m\u001b[0mTensor\u001b[0m\u001b[0;34m]\u001b[0m\u001b[0;34m\u001b[0m\u001b[0;34m\u001b[0m\u001b[0m\n",
              "\u001b[0;31mDocstring:\u001b[0m <no docstring>\n",
              "\u001b[0;31mFile:\u001b[0m      /opt/anaconda3/lib/python3.8/site-packages/torch/nn/modules/rnn.py\n",
              "\u001b[0;31mType:\u001b[0m      function\n"
            ]
          },
          "metadata": {
            "tags": []
          }
        }
      ]
    },
    {
      "cell_type": "markdown",
      "metadata": {
        "id": "jlUBUtnhbj-f"
      },
      "source": [
        "#### Embedding layer\n",
        "\n",
        "*Embedding layer* serves as a differentiable look-up table. Given the token id, it returns corresponding vector which represents the given word.\n",
        "\n",
        "Pytorch provides this functionality for us with `torch.nn.Embedding`."
      ]
    },
    {
      "cell_type": "code",
      "metadata": {
        "id": "F7wBvXaYbj-g"
      },
      "source": [
        "from torch.nn import Embedding\n",
        "\n",
        "Embedding?"
      ],
      "execution_count": null,
      "outputs": []
    },
    {
      "cell_type": "code",
      "metadata": {
        "id": "hPUY40tXbj-m",
        "outputId": "844b1f83-4511-4fc6-e965-efa9498c28e2",
        "colab": {
          "base_uri": "https://localhost:8080/"
        }
      },
      "source": [
        "# Example embedding layer\n",
        "\n",
        "lookup = Embedding(num_embeddings=len(persona_dict), embedding_dim=256, padding_idx=persona_dict.get_id('<pad>')) #you don't want to change embedding padding since there's no info there\n",
        "lookup"
      ],
      "execution_count": null,
      "outputs": [
        {
          "output_type": "execute_result",
          "data": {
            "text/plain": [
              "Embedding(20089, 256, padding_idx=2)"
            ]
          },
          "metadata": {},
          "execution_count": 19
        }
      ]
    },
    {
      "cell_type": "code",
      "metadata": {
        "id": "eSDJy98Jbj-o",
        "outputId": "67280c9a-48a5-46c7-f561-897e68aa5868",
        "colab": {
          "base_uri": "https://localhost:8080/"
        }
      },
      "source": [
        "lookup.weight.size()"
      ],
      "execution_count": null,
      "outputs": [
        {
          "output_type": "execute_result",
          "data": {
            "text/plain": [
              "torch.Size([20089, 256])"
            ]
          },
          "metadata": {},
          "execution_count": 20
        }
      ]
    },
    {
      "cell_type": "code",
      "metadata": {
        "id": "3WMCuASKbj-s",
        "outputId": "02ec95be-6d70-4b5a-a355-de318be43e29",
        "colab": {
          "base_uri": "https://localhost:8080/"
        }
      },
      "source": [
        "# Example input\n",
        "\n",
        "input_ = persona_dict.encode_token_seq('hello world'.split(' '))\n",
        "print(f'discrete input: {[input_]}')\n",
        "\n",
        "input_continuous = lookup(torch.tensor([input_], dtype=torch.long))\n",
        "print(f'continuous input size: {input_continuous.size()}')"
      ],
      "execution_count": null,
      "outputs": [
        {
          "output_type": "stream",
          "name": "stdout",
          "text": [
            "discrete input: [[179, 373]]\n",
            "continuous input size: torch.Size([1, 2, 256])\n"
          ]
        }
      ]
    },
    {
      "cell_type": "markdown",
      "metadata": {
        "id": "nyXi2nkDbj-t"
      },
      "source": [
        "#### Creating the RNN model"
      ]
    },
    {
      "cell_type": "code",
      "metadata": {
        "id": "h0OIKqYlbj-u"
      },
      "source": [
        "input_size = lookup.weight.size(1)\n",
        "vocab_size = lookup.weight.size(0)\n",
        "hidden_size = 1024\n",
        "num_layers = 1\n",
        "\n",
        "rnn_lm = RNN(input_size, hidden_size, num_layers, batch_first=True) #batchfirst is important - tells you dimension that minibatch is on. Will give model if have it backward but will be wrong. We create batch in loader"
      ],
      "execution_count": null,
      "outputs": []
    },
    {
      "cell_type": "code",
      "metadata": {
        "id": "P0d5Brchbj-w",
        "outputId": "03d28be0-55f7-4ed2-dcca-ada14f37d526",
        "colab": {
          "base_uri": "https://localhost:8080/"
        }
      },
      "source": [
        "rnn_lm"
      ],
      "execution_count": null,
      "outputs": [
        {
          "output_type": "execute_result",
          "data": {
            "text/plain": [
              "RNN(256, 1024, batch_first=True)"
            ]
          },
          "metadata": {},
          "execution_count": 27
        }
      ]
    },
    {
      "cell_type": "code",
      "metadata": {
        "id": "eMYxMNsLbj-y"
      },
      "source": [
        "from torch.nn import Linear\n",
        "# linear projection layer is needed to convert the hidden representation into the token-level output probability distribution\n",
        "\n",
        "projection = Linear(hidden_size, vocab_size, bias=True)"
      ],
      "execution_count": null,
      "outputs": []
    },
    {
      "cell_type": "code",
      "metadata": {
        "id": "NxtW_Rxnbj-0",
        "outputId": "a5c30336-d602-482f-e31a-098da033d4f9",
        "colab": {
          "base_uri": "https://localhost:8080/"
        }
      },
      "source": [
        "projection"
      ],
      "execution_count": null,
      "outputs": [
        {
          "output_type": "execute_result",
          "data": {
            "text/plain": [
              "Linear(in_features=1024, out_features=20089, bias=True)"
            ]
          },
          "metadata": {},
          "execution_count": 30
        }
      ]
    },
    {
      "cell_type": "markdown",
      "metadata": {
        "id": "kLLD95Z2G3my"
      },
      "source": [
        "\n",
        "\n",
        "---\n",
        "\n"
      ]
    },
    {
      "cell_type": "markdown",
      "metadata": {
        "id": "4zev2mdGbj--"
      },
      "source": [
        "### Customize our model\n",
        "\n",
        "Now we know how to define each part of LM. Next we are going to make an abstract LM module with all previously discussed parts, as well as data loader which pads and make batches out of our training data."
      ]
    },
    {
      "cell_type": "markdown",
      "metadata": {
        "id": "QwPXurN1bj_F"
      },
      "source": [
        "#### Dataset\n",
        "Making an efficient dataset using `torch.utils.data.DataLoader`"
      ]
    },
    {
      "cell_type": "markdown",
      "metadata": {
        "id": "K8TCegGeOZy7"
      },
      "source": [
        "cf. \n",
        "> [`torch.utils.data.DataLoader`](https://pytorch.org/docs/stable/data.html#torch.utils.data.DataLoader) combines a dataset and a sampler, and provides an iterable over the given dataset."
      ]
    },
    {
      "cell_type": "code",
      "metadata": {
        "id": "9inTW9TO-v-l"
      },
      "source": [
        "def tokenize_dataset(datasets, dictionary, ngram_order=2): #substitute words with numbers. Sometimes can include splitting strings, dealing with punctuation and symbols.\n",
        "    tokenized_datasets = {}\n",
        "    for split, dataset in datasets.items():\n",
        "        _current_dictified = []\n",
        "        for l in tqdm(dataset):\n",
        "            l = ['<bos>']*(ngram_order-1) + l + ['<eos>']\n",
        "            encoded_l = dictionary.encode_token_seq(l)\n",
        "            _current_dictified.append(encoded_l)\n",
        "        tokenized_datasets[split] = _current_dictified\n",
        "        \n",
        "    return tokenized_datasets"
      ],
      "execution_count": null,
      "outputs": []
    },
    {
      "cell_type": "code",
      "metadata": {
        "id": "8owF_WQMbj_H"
      },
      "source": [
        "class TensoredDataset(Dataset):\n",
        "    def __init__(self, list_of_lists_of_tokens):\n",
        "        self.input_tensors = []\n",
        "        self.target_tensors = []\n",
        "        \n",
        "        for sample in list_of_lists_of_tokens:\n",
        "            self.input_tensors.append(torch.tensor([sample[:-1]], dtype=torch.long))\n",
        "            self.target_tensors.append(torch.tensor([sample[1:]], dtype=torch.long))\n",
        "    \n",
        "    def __len__(self):\n",
        "        return len(self.input_tensors)\n",
        "    \n",
        "    def __getitem__(self, idx):\n",
        "        # return a (input, target) tuple\n",
        "        return (self.input_tensors[idx], self.target_tensors[idx])"
      ],
      "execution_count": null,
      "outputs": []
    },
    {
      "cell_type": "code",
      "metadata": {
        "id": "UN-To_JLS9gH",
        "outputId": "acdf9e0c-e020-47de-faf1-56c2bc78bc05",
        "colab": {
          "base_uri": "https://localhost:8080/"
        }
      },
      "source": [
        "personachat_tokenized_datasets = tokenize_dataset(personachat_dataset, persona_dict)\n",
        "persona_tensor_dataset = {}\n",
        "\n",
        "for split, listoflists in personachat_tokenized_datasets.items():\n",
        "    persona_tensor_dataset[split] = TensoredDataset(listoflists)\n",
        "    \n",
        "# check the first example\n",
        "persona_tensor_dataset['train'][0]"
      ],
      "execution_count": null,
      "outputs": [
        {
          "output_type": "stream",
          "name": "stderr",
          "text": [
            "100%|██████████| 133176/133176 [00:00<00:00, 217817.02it/s]\n",
            "100%|██████████| 16181/16181 [00:00<00:00, 253146.36it/s]\n",
            "100%|██████████| 15608/15608 [00:00<00:00, 86635.11it/s]\n"
          ]
        },
        {
          "output_type": "execute_result",
          "data": {
            "text/plain": [
              "(tensor([[ 0,  4,  5,  6,  7,  8,  9, 10, 11, 12]]),\n",
              " tensor([[ 4,  5,  6,  7,  8,  9, 10, 11, 12,  1]]))"
            ]
          },
          "metadata": {},
          "execution_count": 33
        }
      ]
    },
    {
      "cell_type": "code",
      "metadata": {
        "id": "oO9bQBklOE0g"
      },
      "source": [
        "torch.utils.data.DataLoader?"
      ],
      "execution_count": null,
      "outputs": []
    },
    {
      "cell_type": "code",
      "metadata": {
        "id": "LZYTS4jc0lyW",
        "outputId": "10b584e6-c2a1-4660-eb09-a98e36623e67"
      },
      "source": [
        "torch.cat?"
      ],
      "execution_count": null,
      "outputs": [
        {
          "output_type": "display_data",
          "data": {
            "text/plain": [
              "\u001b[0;31mDocstring:\u001b[0m\n",
              "cat(tensors, dim=0, out=None) -> Tensor\n",
              "\n",
              "Concatenates the given sequence of :attr:`seq` tensors in the given dimension.\n",
              "All tensors must either have the same shape (except in the concatenating\n",
              "dimension) or be empty.\n",
              "\n",
              ":func:`torch.cat` can be seen as an inverse operation for :func:`torch.split`\n",
              "and :func:`torch.chunk`.\n",
              "\n",
              ":func:`torch.cat` can be best understood via examples.\n",
              "\n",
              "Args:\n",
              "    tensors (sequence of Tensors): any python sequence of tensors of the same type.\n",
              "        Non-empty tensors provided must have the same shape, except in the\n",
              "        cat dimension.\n",
              "    dim (int, optional): the dimension over which the tensors are concatenated\n",
              "    out (Tensor, optional): the output tensor.\n",
              "\n",
              "Example::\n",
              "\n",
              "    >>> x = torch.randn(2, 3)\n",
              "    >>> x\n",
              "    tensor([[ 0.6580, -1.0969, -0.4614],\n",
              "            [-0.1034, -0.5790,  0.1497]])\n",
              "    >>> torch.cat((x, x, x), 0)\n",
              "    tensor([[ 0.6580, -1.0969, -0.4614],\n",
              "            [-0.1034, -0.5790,  0.1497],\n",
              "            [ 0.6580, -1.0969, -0.4614],\n",
              "            [-0.1034, -0.5790,  0.1497],\n",
              "            [ 0.6580, -1.0969, -0.4614],\n",
              "            [-0.1034, -0.5790,  0.1497]])\n",
              "    >>> torch.cat((x, x, x), 1)\n",
              "    tensor([[ 0.6580, -1.0969, -0.4614,  0.6580, -1.0969, -0.4614,  0.6580,\n",
              "             -1.0969, -0.4614],\n",
              "            [-0.1034, -0.5790,  0.1497, -0.1034, -0.5790,  0.1497, -0.1034,\n",
              "             -0.5790,  0.1497]])\n",
              "\u001b[0;31mType:\u001b[0m      builtin_function_or_method\n"
            ]
          },
          "metadata": {
            "tags": []
          }
        }
      ]
    },
    {
      "cell_type": "code",
      "metadata": {
        "id": "76j3yHD7bj_K"
      },
      "source": [
        "def pad_list_of_tensors(list_of_tensors, pad_token):\n",
        "    max_length = max([t.size(-1) for t in list_of_tensors])\n",
        "    padded_list = []\n",
        "    \n",
        "    for t in list_of_tensors:\n",
        "        padded_tensor = torch.cat([t, torch.tensor([[pad_token]*(max_length - t.size(-1))], dtype=torch.long)], dim = -1)\n",
        "        padded_list.append(padded_tensor)\n",
        "        \n",
        "    padded_tensor = torch.cat(padded_list, dim=0)\n",
        "    \n",
        "    return padded_tensor\n",
        "\n",
        "def pad_collate_fn(batch):\n",
        "    # batch is a list of sample tuples\n",
        "    input_list = [s[0] for s in batch]\n",
        "    target_list = [s[1] for s in batch]\n",
        "    \n",
        "    pad_token = persona_dict.get_id('<pad>')\n",
        "    #pad_token = 2\n",
        "    \n",
        "    input_tensor = pad_list_of_tensors(input_list, pad_token)\n",
        "    target_tensor = pad_list_of_tensors(target_list, pad_token)\n",
        "    \n",
        "    return input_tensor, target_tensor"
      ],
      "execution_count": null,
      "outputs": []
    },
    {
      "cell_type": "code",
      "metadata": {
        "id": "qwBqO3z7bj_L"
      },
      "source": [
        "persona_loaders = {}\n",
        "\n",
        "batch_size = 128\n",
        "\n",
        "for split, persona_dataset in persona_tensor_dataset.items():\n",
        "    persona_loaders[split] = DataLoader(persona_dataset, batch_size=batch_size, shuffle=True, collate_fn=pad_collate_fn)"
      ],
      "execution_count": null,
      "outputs": []
    },
    {
      "cell_type": "markdown",
      "metadata": {
        "id": "LHqYjtCYbj--"
      },
      "source": [
        "#### Model\n",
        "Making our own `nn.Module` model to combine Embedding, RNN and Projection in a single object\n",
        "\n",
        "Above we have created each part of the language model separately. Further we made a criterion and optimizer which takes every parameter we are going to update with an optimizer. To simplify the whole process now we create an abstract model class which combines all parts in a single RNNLanguageModel object."
      ]
    },
    {
      "cell_type": "code",
      "metadata": {
        "id": "IdlUbyiybj_A"
      },
      "source": [
        "class RNNLanguageModel(nn.Module): #RNN is only difference from previous model\n",
        "    \"\"\"\n",
        "    This model combines embedding, rnn and projection layer into a single model\n",
        "    \"\"\"\n",
        "    def __init__(self, options):\n",
        "        super().__init__()\n",
        "        \n",
        "        # create each LM part here \n",
        "        self.lookup = nn.Embedding(num_embeddings=options['num_embeddings'], embedding_dim=options['embedding_dim'], padding_idx=options['padding_idx'])\n",
        "        self.rnn = nn.RNN(options['input_size'], options['hidden_size'], options['num_layers'], dropout=options['rnn_dropout'], batch_first=True)\n",
        "        self.projection = nn.Linear(options['hidden_size'], options['num_embeddings'])\n",
        "        \n",
        "    def forward(self, encoded_input_sequence):\n",
        "        \"\"\"\n",
        "        Forward method process the input from token ids to logits\n",
        "        \"\"\"\n",
        "        embeddings = self.lookup(encoded_input_sequence)\n",
        "        rnn_outputs = self.rnn(embeddings)\n",
        "        logits = self.projection(rnn_outputs[0]) #convenient for seq to seq models. check shape of output. lstm gives different\n",
        "        \n",
        "        return logits"
      ],
      "execution_count": null,
      "outputs": []
    },
    {
      "cell_type": "code",
      "source": [
        "nn.Linear(options['hidden_size','you'],2)"
      ],
      "metadata": {
        "id": "TbVSqE2AwSjq"
      },
      "execution_count": null,
      "outputs": []
    },
    {
      "cell_type": "code",
      "metadata": {
        "id": "zQB-RbIhbj_B"
      },
      "source": [
        "# Create a model if we do not want to use pretrained model\n",
        "\n",
        "load_pretrained = True\n",
        "\n",
        "num_gpus = torch.cuda.device_count()\n",
        "if num_gpus > 0:\n",
        "    current_device = 'cuda'\n",
        "else:\n",
        "    current_device = 'cpu'\n",
        "\n",
        "if load_pretrained:\n",
        "    if not os.path.exists('personachat_rnn_lm.pt'):\n",
        "        raise EOFError('Download pretrained model!')\n",
        "    model_dict = torch.load('personachat_rnn_lm.pt', map_location=current_device)\n",
        "    \n",
        "    options = model_dict['options']\n",
        "    model = RNNLanguageModel(options).to(current_device)\n",
        "    model.load_state_dict(model_dict['model_dict'])\n",
        "    \n",
        "else:\n",
        "    embedding_size = 256\n",
        "    hidden_size = 512\n",
        "    num_layers = 3\n",
        "    rnn_dropout = 0.3\n",
        "\n",
        "    options = {\n",
        "        'num_embeddings': len(persona_dict),\n",
        "        'embedding_dim': embedding_size,\n",
        "        'padding_idx': persona_dict.get_id('<pad>'),\n",
        "        'input_size': embedding_size,\n",
        "        'hidden_size': hidden_size,\n",
        "        'num_layers': num_layers,\n",
        "        'rnn_dropout': rnn_dropout,\n",
        "    }\n",
        "\n",
        "    \n",
        "\n",
        "    model = RNNLanguageModel(options).to(current_device)\n",
        "\n",
        "criterion = nn.CrossEntropyLoss(ignore_index=persona_dict.get_id('<pad>'))\n",
        "\n",
        "model_parameters = [p for p in model.parameters() if p.requires_grad]\n",
        "optimizer = optim.SGD(model_parameters, lr=0.001, momentum=0.999)"
      ],
      "execution_count": null,
      "outputs": []
    },
    {
      "cell_type": "code",
      "metadata": {
        "id": "qmMLIrhjbj_D",
        "outputId": "e30d50c9-4547-4c4e-86d3-75f45c9eab4c",
        "colab": {
          "base_uri": "https://localhost:8080/"
        }
      },
      "source": [
        "model"
      ],
      "execution_count": null,
      "outputs": [
        {
          "output_type": "execute_result",
          "data": {
            "text/plain": [
              "RNNLanguageModel(\n",
              "  (lookup): Embedding(20089, 256, padding_idx=2)\n",
              "  (rnn): RNN(256, 512, num_layers=3, batch_first=True, dropout=0.3)\n",
              "  (projection): Linear(in_features=512, out_features=20089, bias=True)\n",
              ")"
            ]
          },
          "metadata": {},
          "execution_count": 41
        }
      ]
    },
    {
      "cell_type": "code",
      "metadata": {
        "id": "R4WayxKfV3Ua",
        "outputId": "26fbb17c-c5c0-48fa-c546-fd5ff5878d34",
        "colab": {
          "base_uri": "https://localhost:8080/"
        }
      },
      "source": [
        "model_dict.keys()"
      ],
      "execution_count": null,
      "outputs": [
        {
          "output_type": "execute_result",
          "data": {
            "text/plain": [
              "dict_keys(['options', 'loss_cache', 'model_dict'])"
            ]
          },
          "metadata": {},
          "execution_count": 43
        }
      ]
    },
    {
      "cell_type": "code",
      "metadata": {
        "id": "eVDzkw0dWaCm",
        "outputId": "225bf2ce-5e60-4829-f5fa-1d2329ba9128",
        "colab": {
          "base_uri": "https://localhost:8080/"
        }
      },
      "source": [
        "model_dict['options']"
      ],
      "execution_count": null,
      "outputs": [
        {
          "output_type": "execute_result",
          "data": {
            "text/plain": [
              "{'num_embeddings': 20089,\n",
              " 'embedding_dim': 256,\n",
              " 'padding_idx': 2,\n",
              " 'input_size': 256,\n",
              " 'hidden_size': 512,\n",
              " 'num_layers': 3,\n",
              " 'rnn_dropout': 0.3}"
            ]
          },
          "metadata": {},
          "execution_count": 44
        }
      ]
    },
    {
      "cell_type": "markdown",
      "metadata": {
        "id": "d6nknrolRIfy"
      },
      "source": [
        "#### Training"
      ]
    },
    {
      "cell_type": "code",
      "metadata": {
        "id": "Fw28_6qXbj_M",
        "outputId": "de393665-5fc1-4336-e1bd-dea5a2c7473b",
        "colab": {
          "base_uri": "https://localhost:8080/"
        }
      },
      "source": [
        "plot_cache = []\n",
        "\n",
        "for epoch_number in range(100):\n",
        "    avg_loss=0\n",
        "    if not load_pretrained:\n",
        "        # do train\n",
        "        model.train()\n",
        "        train_log_cache = []\n",
        "        for i, (inp, target) in enumerate(persona_loaders['train']):\n",
        "            optimizer.zero_grad()\n",
        "            inp = inp.to(current_device)\n",
        "            target = target.to(current_device)\n",
        "            logits = model(inp)\n",
        "            \n",
        "            loss = criterion(logits.view(-1, logits.size(-1)), target.view(-1))\n",
        "            \n",
        "            loss.backward()\n",
        "            optimizer.step()\n",
        "            \n",
        "            train_log_cach.eappend(loss.item())\n",
        "            \n",
        "            if i % 100 == 0:\n",
        "                avg_loss = sum(train_log_cache)/len(train_log_cache)\n",
        "                print('Step {} avg train loss = {:.{prec}f}'.format(i, avg_loss, prec=4))\n",
        "                train_log_cache = []\n",
        "            \n",
        "    #do valid\n",
        "    valid_losses = []\n",
        "    model.eval()\n",
        "    with torch.no_grad():\n",
        "        for i, (inp, target) in enumerate(persona_loaders['valid']):\n",
        "            inp = inp.to(current_device)\n",
        "            target = target.to(current_device)\n",
        "            logits = model(inp)\n",
        "\n",
        "            loss = criterion(logits.view(-1, logits.size(-1)), target.view(-1))\n",
        "            valid_losses.append(loss.item())\n",
        "        avg_val_loss = sum(valid_losses) / len(valid_losses)\n",
        "        print('Validation loss after {} epoch = {:.{prec}f}'.format(epoch_number, avg_val_loss, prec=4))\n",
        "        \n",
        "    plot_cache.append((avg_loss, avg_val_loss))\n",
        "\n",
        "    if load_pretrained:\n",
        "        break"
      ],
      "execution_count": null,
      "outputs": [
        {
          "output_type": "stream",
          "name": "stdout",
          "text": [
            "Validation loss after 0 epoch = 3.6498\n"
          ]
        }
      ]
    },
    {
      "cell_type": "markdown",
      "metadata": {
        "id": "UTyb2zZYbj_O"
      },
      "source": [
        "---\n",
        "### Evaluation: Perplexity\n",
        "#### Recap: Perplexity and how to get it right\n",
        "\n",
        "Intuitively, a good model should assign high probabilities to sequences from the 'true' distribution that it is modeling.\n",
        "\n",
        "A common way of quantifying this is with **perplexity**, a metric inversely-proportional to the probability that the model assigns to a set of sequences, e.g. a 'test set':\n",
        "\n",
        "\\begin{align}\n",
        "\\huge \\text{ppl}(p, D) &\\huge = -\\frac{1}{N_{total}}\\log p(D)\n",
        "\\end{align}\n",
        "\n",
        "where $D=\\{(w_1,\\ldots,w_{N_i})_i\\}_{i=1}^M$ is a dataset of $M$ sequences with total length $N_{\\text{total}}=\\sum_{i}N_i$.\n",
        "\n",
        "Intuitively, when measured in exponential form ($2^{-\\frac{1}{N_{total}}\\log_2 p(D)}$), **_perplexity measures the average rank of the true next-token, when tokens are ordered by the model's conditional probabilities_**. It is defined on $[1,\\infty)$, with 1 being a perfect model (assigning probability 1 to $D$), and a 'worse' model as perplexity increases. Section 1.3 of [[Chen & Goodman 1998]](https://dash.harvard.edu/bitstream/handle/1/25104739/tr-10-98.pdf?sequence=1) has a concise summary of perplexity and its motivation.\n",
        "\n",
        "### Perplexity in our case\n",
        "\n",
        "In our case model computes the loss for every token in the output sequence. There are several important points:\n",
        "\n",
        "- we have to mask loss assigned to padding token. \\<pad\\> is introduced in order to shape batches of specific size and such tokens do not contribute to the actual data. To our luck, pytorch already handles this in the criterion (check that **ignore_index=**argument)\n",
        "- we have to check the base of the logaithm: by default **torch.log** uses natural base $e$, in order to convert that to base 2 we do the following math: log_2 p = log_e p / log_e 2"
      ]
    },
    {
      "cell_type": "code",
      "metadata": {
        "id": "KAV_hzMvbj_O"
      },
      "source": [
        "if load_pretrained:\n",
        "    plot_cache = model_dict['loss_cache']"
      ],
      "execution_count": null,
      "outputs": []
    },
    {
      "cell_type": "code",
      "metadata": {
        "id": "fhTtmqBfufyE",
        "outputId": "dc6bfc9a-a452-4858-8c63-5d20328bd963",
        "colab": {
          "base_uri": "https://localhost:8080/",
          "height": 281
        }
      },
      "source": [
        "epochs = numpy.array(list(range(len(plot_cache))))\n",
        "plt.plot(epochs, [i[0] for i in plot_cache], label='Train loss')\n",
        "plt.plot(epochs, [i[1] for i in plot_cache], label='Valid loss')\n",
        "\n",
        "plt.legend()\n",
        "plt.title('Loss curves')\n",
        "plt.show()"
      ],
      "execution_count": null,
      "outputs": [
        {
          "output_type": "display_data",
          "data": {
            "image/png": "[encoded data removed]",
            "text/plain": [
              "<Figure size 432x288 with 1 Axes>"
            ]
          },
          "metadata": {
            "tags": [],
            "needs_background": "light"
          }
        }
      ]
    },
    {
      "cell_type": "code",
      "metadata": {
        "id": "R_A4w1QFufyN",
        "outputId": "d924244a-c80c-4151-b7e4-2a61bb5671fb",
        "colab": {
          "base_uri": "https://localhost:8080/",
          "height": 281
        }
      },
      "source": [
        "epochs = numpy.array(list(range(len(plot_cache))))\n",
        "plt.plot(epochs, [2**(i[0]/numpy.log(2)) for i in plot_cache], label='Train ppl')\n",
        "plt.plot(epochs, [2**(i[1]/numpy.log(2)) for i in plot_cache], label='Valid ppl')\n",
        "\n",
        "plt.legend()\n",
        "plt.title('PPL curves')\n",
        "plt.show()"
      ],
      "execution_count": null,
      "outputs": [
        {
          "output_type": "display_data",
          "data": {
            "image/png": "[encoded data removed]",
            "text/plain": [
              "<Figure size 432x288 with 1 Axes>"
            ]
          },
          "metadata": {
            "tags": [],
            "needs_background": "light"
          }
        }
      ]
    },
    {
      "cell_type": "markdown",
      "metadata": {
        "id": "zAvP_FXgbj_W"
      },
      "source": [
        "### Compare the results\n",
        "#### Checking some trigram probabilities\n",
        "\n",
        "In the previous lab we have this using 3gram count based LM:\n",
        "\n",
        "$p( \\text{dog }| \\text{ my pet} ) = 0.03030$\n",
        "\n",
        "$p( \\text{zebra } | \\text{ my pet} ) = 0.01515$\n",
        "\n",
        "$p( \\text{lion } | \\text{ my pet} ) = 0$\n",
        "\n",
        "The last trigram had $p=0$ since such trigram did not appear in the training corpus.\n",
        "\n",
        "Lets check what we get using personachat dataset."
      ]
    },
    {
      "cell_type": "code",
      "metadata": {
        "id": "TMG0r9zwbj_X",
        "outputId": "5d42e386-8f29-47e9-f089-e7c9fa182dec",
        "colab": {
          "base_uri": "https://localhost:8080/",
          "height": 421
        }
      },
      "source": [
        "def get_prob_of_token_given_prefix(prefix, token):\n",
        "    inp = persona_dict.encode_token_seq(prefix.split(' '))\n",
        "    #print(inp)\n",
        "    with torch.no_grad():\n",
        "        model.eval()\n",
        "        logits = model(torch.tensor([inp], dtype=torch.long).to(current_device))\n",
        "        \n",
        "    tokid = persona_dict.get_id(token)\n",
        "    prob_distr = torch.softmax(logits[0,-1], dim=-1)\n",
        "    return prob_distr[tokid]\n",
        "\n",
        "prefix='my pet'\n",
        "\n",
        "for w in ['dog', 'zebra', 'lion', 'hotdog', 'table', 'math', 'pizza']:\n",
        "    prob = get_prob_of_token_given_prefix(prefix, w)\n",
        "    print('p( {} | {} ) = {:.{prec}f}'.format(w, prefix, prob, prec=8))\n",
        "    \n",
        "print('====================')\n",
        "\n",
        "prefix='<bos> i have a'\n",
        "\n",
        "for w in ['dog', 'zebra', 'lion', 'hotdog', 'table', 'math', 'pizza']:\n",
        "    prob = get_prob_of_token_given_prefix(prefix, w)\n",
        "    print('p( {} | {} ) = {:.{prec}f}'.format(w, prefix, prob, prec=8))\n",
        "    \n",
        "print('====================')\n",
        "\n",
        "prefix='i have'\n",
        "\n",
        "for w in ['dog', 'zebra', 'lion', 'hotdog', 'table', 'math', 'pizza']:\n",
        "    prob = get_prob_of_token_given_prefix(prefix, w)\n",
        "    print('p( {} | {} ) = {:.{prec}f}'.format(w, prefix, prob, prec=8))\n",
        "\n",
        "print('====================')\n",
        "\n",
        "prefix='have'\n",
        "\n",
        "for w in ['dog', 'zebra', 'lion', 'hotdog', 'table', 'math', 'pizza']:\n",
        "    prob = get_prob_of_token_given_prefix(prefix, w)\n",
        "    print('p( {} | {} ) = {:.{prec}f}'.format(w, prefix, prob, prec=8))"
      ],
      "execution_count": null,
      "outputs": [
        {
          "output_type": "stream",
          "text": [
            "p( dog | my pet ) = 0.00360091\n",
            "p( zebra | my pet ) = 0.00063178\n",
            "p( lion | my pet ) = 0.00004970\n",
            "p( hotdog | my pet ) = 0.00002596\n",
            "p( table | my pet ) = 0.00002861\n",
            "p( math | my pet ) = 0.00003056\n",
            "p( pizza | my pet ) = 0.00003829\n",
            "====================\n",
            "p( dog | <bos> i have a ) = 0.06960335\n",
            "p( zebra | <bos> i have a ) = 0.00016325\n",
            "p( lion | <bos> i have a ) = 0.00032840\n",
            "p( hotdog | <bos> i have a ) = 0.00002465\n",
            "p( table | <bos> i have a ) = 0.00001450\n",
            "p( math | <bos> i have a ) = 0.00002590\n",
            "p( pizza | <bos> i have a ) = 0.00027605\n",
            "====================\n",
            "p( dog | i have ) = 0.00005810\n",
            "p( zebra | i have ) = 0.00000022\n",
            "p( lion | i have ) = 0.00000022\n",
            "p( hotdog | i have ) = 0.00000029\n",
            "p( table | i have ) = 0.00000070\n",
            "p( math | i have ) = 0.00000164\n",
            "p( pizza | i have ) = 0.00003808\n",
            "====================\n",
            "p( dog | have ) = 0.00000301\n",
            "p( zebra | have ) = 0.00000043\n",
            "p( lion | have ) = 0.00000049\n",
            "p( hotdog | have ) = 0.00000143\n",
            "p( table | have ) = 0.00000090\n",
            "p( math | have ) = 0.00000037\n",
            "p( pizza | have ) = 0.00000082\n"
          ],
          "name": "stdout"
        }
      ]
    },
    {
      "cell_type": "code",
      "metadata": {
        "id": "l4zVv--owi3d",
        "outputId": "0460d9b0-5501-44d0-9be6-0f6459af8c2c",
        "colab": {
          "base_uri": "https://localhost:8080/",
          "height": 406
        }
      },
      "source": [
        "def get_top_token_given_prefix(prefix):\n",
        "    inp = persona_dict.encode_token_seq(prefix.split(' '))\n",
        "    with torch.no_grad():\n",
        "        model.eval()\n",
        "        logits = model(torch.tensor([inp], dtype=torch.long).to(current_device))\n",
        "        \n",
        "    prob_distr = torch.softmax(logits[0,-1], dim=-1)\n",
        "    sorted_best_probs, sorted_best_toks = torch.topk(prob_distr, 20)\n",
        "\n",
        "    for i in range(sorted_best_toks.size(0)):\n",
        "        print('p( {} | {} ) = {:.{prec}f}'.format(persona_dict.decode_idx_seq([sorted_best_toks[i]])[0], prefix, sorted_best_probs[i], prec=8))\n",
        "\n",
        "    print(persona_dict.decode_idx_seq(sorted_best_toks))\n",
        "\n",
        "get_top_token_given_prefix('<bos> I live in')"
      ],
      "execution_count": null,
      "outputs": [
        {
          "output_type": "stream",
          "text": [
            "p( the | <bos> I live in ) = 0.20480634\n",
            "p( florida | <bos> I live in ) = 0.06449959\n",
            "p( california | <bos> I live in ) = 0.04631147\n",
            "p( a | <bos> I live in ) = 0.04002801\n",
            "p( your | <bos> I live in ) = 0.03340458\n",
            "p( my | <bos> I live in ) = 0.03132324\n",
            "p( texas | <bos> I live in ) = 0.02445643\n",
            "p( ny | <bos> I live in ) = 0.01626382\n",
            "p( canada | <bos> I live in ) = 0.01619168\n",
            "p( japan | <bos> I live in ) = 0.01268910\n",
            "p( chicago | <bos> I live in ) = 0.01215493\n",
            "p( new | <bos> I live in ) = 0.01203236\n",
            "p( portland | <bos> I live in ) = 0.01175667\n",
            "p( kansas | <bos> I live in ) = 0.01038384\n",
            "p( seattle | <bos> I live in ) = 0.00876120\n",
            "p( georgia | <bos> I live in ) = 0.00813357\n",
            "p( ohio | <bos> I live in ) = 0.00810098\n",
            "p( this | <bos> I live in ) = 0.00755778\n",
            "p( america | <bos> I live in ) = 0.00752445\n",
            "p( france | <bos> I live in ) = 0.00744124\n",
            "['the', 'florida', 'california', 'a', 'your', 'my', 'texas', 'ny', 'canada', 'japan', 'chicago', 'new', 'portland', 'kansas', 'seattle', 'georgia', 'ohio', 'this', 'america', 'france']\n"
          ],
          "name": "stdout"
        }
      ]
    },
    {
      "cell_type": "code",
      "metadata": {
        "id": "uzGqlrKhbj_g"
      },
      "source": [
        "# Save the model\n",
        "# BE CAREFUL TO NOT OVERWRITE SOME IMPORTANT MODEL\n",
        "\n",
        "if False:\n",
        "    torch.save({\n",
        "        'options': options,\n",
        "        'loss_cache': plot_cache,\n",
        "        'model_dict': model.state_dict()\n",
        "    }, './static_files/persona_rnn_lm.pt')"
      ],
      "execution_count": null,
      "outputs": []
    }
  ]
}